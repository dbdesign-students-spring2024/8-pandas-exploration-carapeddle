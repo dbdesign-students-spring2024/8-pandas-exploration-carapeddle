{
 "cells": [
  {
   "cell_type": "markdown",
   "metadata": {},
   "source": [
    "# pandas exploration\n",
    "In this assignment you will select a data set and do some munging and analysis of it using `pandas`, Jupyter Notebooks, and associated Python-centric data science tools."
   ]
  },
  {
   "attachments": {},
   "cell_type": "markdown",
   "metadata": {},
   "source": [
    "## Set up environment"
   ]
  },
  {
   "attachments": {},
   "cell_type": "markdown",
   "metadata": {},
   "source": [
    "The following lines ensure that `numpy` and `pandas` are installed in the notebook environment.  Depending on your system, this may not be necessary and may be removed."
   ]
  },
  {
   "cell_type": "code",
   "execution_count": 5,
   "metadata": {},
   "outputs": [
    {
     "name": "stdout",
     "output_type": "stream",
     "text": [
      "Requirement already satisfied: numpy in /Library/Frameworks/Python.framework/Versions/3.11/lib/python3.11/site-packages (1.26.4)\n",
      "Requirement already satisfied: pandas in /Library/Frameworks/Python.framework/Versions/3.11/lib/python3.11/site-packages (2.2.2)\n",
      "Requirement already satisfied: numpy>=1.23.2 in /Library/Frameworks/Python.framework/Versions/3.11/lib/python3.11/site-packages (from pandas) (1.26.4)\n",
      "Requirement already satisfied: python-dateutil>=2.8.2 in /Users/carapeddle/Library/Python/3.11/lib/python/site-packages (from pandas) (2.9.0.post0)\n",
      "Requirement already satisfied: pytz>=2020.1 in /Library/Frameworks/Python.framework/Versions/3.11/lib/python3.11/site-packages (from pandas) (2024.1)\n",
      "Requirement already satisfied: tzdata>=2022.7 in /Library/Frameworks/Python.framework/Versions/3.11/lib/python3.11/site-packages (from pandas) (2024.1)\n",
      "Requirement already satisfied: six>=1.5 in /Users/carapeddle/Library/Python/3.11/lib/python/site-packages (from python-dateutil>=2.8.2->pandas) (1.16.0)\n"
     ]
    }
   ],
   "source": [
    "!pip3 install numpy\n",
    "!pip3 install pandas"
   ]
  },
  {
   "cell_type": "markdown",
   "metadata": {},
   "source": [
    "Import the core data science libraries:"
   ]
  },
  {
   "cell_type": "code",
   "execution_count": 6,
   "metadata": {},
   "outputs": [],
   "source": [
    "%matplotlib inline\n",
    "import matplotlib.pyplot as plt\n",
    "import numpy as np\n",
    "import pandas as pd"
   ]
  },
  {
   "cell_type": "markdown",
   "metadata": {},
   "source": [
    "## Import the raw data\n",
    "In this section, you will import the raw data into a `pandas` DataFrame."
   ]
  },
  {
   "cell_type": "code",
   "execution_count": 9,
   "metadata": {},
   "outputs": [
    {
     "name": "stdout",
     "output_type": "stream",
     "text": [
      "   Snapshot Year Latest Admission Type County of Indictment Gender  \\\n",
      "0           2023  NEW COURT COMMITMENT               ALBANY   MALE   \n",
      "1           2023  NEW COURT COMMITMENT               ALBANY   MALE   \n",
      "2           2023  NEW COURT COMMITMENT               ALBANY   MALE   \n",
      "3           2023  NEW COURT COMMITMENT               ALBANY   MALE   \n",
      "4           2023  NEW COURT COMMITMENT               ALBANY   MALE   \n",
      "\n",
      "   Most Serious Crime  Current Age Housing Facility Facility Security Level  \\\n",
      "0  ATT C POS WEAP 2ND           19   WOODBOURNE SNU         MEDIUM SECURITY   \n",
      "1    C POS WEAPON 2ND           19         FRANKLIN         MEDIUM SECURITY   \n",
      "2  ATT C POS WEAP 2ND           19       WASHINGTON         MEDIUM SECURITY   \n",
      "3  ATT C POS WEAP 2ND           19          WYOMING         MEDIUM SECURITY   \n",
      "4      YO ATT ROBBERY           19           GREENE         MEDIUM SECURITY   \n",
      "\n",
      "  Race/Ethnicity  \n",
      "0          BLACK  \n",
      "1          BLACK  \n",
      "2          BLACK  \n",
      "3          BLACK  \n",
      "4          BLACK  \n"
     ]
    }
   ],
   "source": [
    "# place your code into this Code cell\n",
    "df = pd.read_csv('data/nys_incarceration.csv')"
   ]
  },
  {
   "cell_type": "markdown",
   "metadata": {},
   "source": [
    "## Data inspection\n",
    "In this section, you will show enough of your data for a viewer to get a general sense of how the data is structured and any unique features of it.  Complete each of the indicated tasks in a Code cell, making sure to include a Markdown cell above each Code cell that explains what is being shown by the code.  \n",
    "- Show 5 rows, selected at random, from the data set.\n",
    "- Show each of the column names and their data types.\n",
    "- Show any unique features of your chosen data set.\n",
    "\n",
    "Feel free to add as many additional cells as you need to help explain the raw data."
   ]
  },
  {
   "cell_type": "code",
   "execution_count": 10,
   "metadata": {},
   "outputs": [
    {
     "data": {
      "text/html": [
       "<div>\n",
       "<style scoped>\n",
       "    .dataframe tbody tr th:only-of-type {\n",
       "        vertical-align: middle;\n",
       "    }\n",
       "\n",
       "    .dataframe tbody tr th {\n",
       "        vertical-align: top;\n",
       "    }\n",
       "\n",
       "    .dataframe thead th {\n",
       "        text-align: right;\n",
       "    }\n",
       "</style>\n",
       "<table border=\"1\" class=\"dataframe\">\n",
       "  <thead>\n",
       "    <tr style=\"text-align: right;\">\n",
       "      <th></th>\n",
       "      <th>Snapshot Year</th>\n",
       "      <th>Latest Admission Type</th>\n",
       "      <th>County of Indictment</th>\n",
       "      <th>Gender</th>\n",
       "      <th>Most Serious Crime</th>\n",
       "      <th>Current Age</th>\n",
       "      <th>Housing Facility</th>\n",
       "      <th>Facility Security Level</th>\n",
       "      <th>Race/Ethnicity</th>\n",
       "    </tr>\n",
       "  </thead>\n",
       "  <tbody>\n",
       "    <tr>\n",
       "      <th>398476</th>\n",
       "      <td>2014</td>\n",
       "      <td>NEW COURT COMMITMENT</td>\n",
       "      <td>RICHMOND</td>\n",
       "      <td>MALE</td>\n",
       "      <td>MURDER 1ST</td>\n",
       "      <td>46</td>\n",
       "      <td>SHAWANGUNK</td>\n",
       "      <td>MAXIMUM SECURITY</td>\n",
       "      <td>WHITE</td>\n",
       "    </tr>\n",
       "    <tr>\n",
       "      <th>611053</th>\n",
       "      <td>2010</td>\n",
       "      <td>NEW COURT COMMITMENT</td>\n",
       "      <td>WESTCHESTER</td>\n",
       "      <td>MALE</td>\n",
       "      <td>MURDER 2ND</td>\n",
       "      <td>60</td>\n",
       "      <td>FIVE POINTS</td>\n",
       "      <td>MAXIMUM SECURITY</td>\n",
       "      <td>BLACK</td>\n",
       "    </tr>\n",
       "    <tr>\n",
       "      <th>573595</th>\n",
       "      <td>2011</td>\n",
       "      <td>NEW COURT COMMITMENT</td>\n",
       "      <td>NEW YORK</td>\n",
       "      <td>MALE</td>\n",
       "      <td>MANSLAUGHTER 1ST</td>\n",
       "      <td>51</td>\n",
       "      <td>FIVE POINTS</td>\n",
       "      <td>MAXIMUM SECURITY</td>\n",
       "      <td>BLACK</td>\n",
       "    </tr>\n",
       "    <tr>\n",
       "      <th>159871</th>\n",
       "      <td>2019</td>\n",
       "      <td>NEW COURT COMMITMENT</td>\n",
       "      <td>NEW YORK</td>\n",
       "      <td>MALE</td>\n",
       "      <td>ROBBERY 1ST</td>\n",
       "      <td>37</td>\n",
       "      <td>GREEN HAVEN ICP</td>\n",
       "      <td>MAXIMUM SECURITY</td>\n",
       "      <td>BLACK</td>\n",
       "    </tr>\n",
       "    <tr>\n",
       "      <th>72763</th>\n",
       "      <td>2022</td>\n",
       "      <td>NEW COURT COMMITMENT</td>\n",
       "      <td>KINGS</td>\n",
       "      <td>MALE</td>\n",
       "      <td>RAPE 1ST</td>\n",
       "      <td>61</td>\n",
       "      <td>MARCY OSOTP</td>\n",
       "      <td>MEDIUM SECURITY</td>\n",
       "      <td>HISPANIC</td>\n",
       "    </tr>\n",
       "  </tbody>\n",
       "</table>\n",
       "</div>"
      ],
      "text/plain": [
       "        Snapshot Year Latest Admission Type County of Indictment Gender  \\\n",
       "398476           2014  NEW COURT COMMITMENT             RICHMOND   MALE   \n",
       "611053           2010  NEW COURT COMMITMENT          WESTCHESTER   MALE   \n",
       "573595           2011  NEW COURT COMMITMENT             NEW YORK   MALE   \n",
       "159871           2019  NEW COURT COMMITMENT             NEW YORK   MALE   \n",
       "72763            2022  NEW COURT COMMITMENT                KINGS   MALE   \n",
       "\n",
       "       Most Serious Crime  Current Age Housing Facility  \\\n",
       "398476         MURDER 1ST           46       SHAWANGUNK   \n",
       "611053         MURDER 2ND           60      FIVE POINTS   \n",
       "573595   MANSLAUGHTER 1ST           51      FIVE POINTS   \n",
       "159871        ROBBERY 1ST           37  GREEN HAVEN ICP   \n",
       "72763            RAPE 1ST           61      MARCY OSOTP   \n",
       "\n",
       "       Facility Security Level Race/Ethnicity  \n",
       "398476        MAXIMUM SECURITY          WHITE  \n",
       "611053        MAXIMUM SECURITY          BLACK  \n",
       "573595        MAXIMUM SECURITY          BLACK  \n",
       "159871        MAXIMUM SECURITY          BLACK  \n",
       "72763          MEDIUM SECURITY       HISPANIC  "
      ]
     },
     "execution_count": 10,
     "metadata": {},
     "output_type": "execute_result"
    }
   ],
   "source": [
    "df.sample(5)"
   ]
  },
  {
   "cell_type": "code",
   "execution_count": 12,
   "metadata": {},
   "outputs": [
    {
     "name": "stdout",
     "output_type": "stream",
     "text": [
      "<class 'pandas.core.frame.DataFrame'>\n",
      "RangeIndex: 784159 entries, 0 to 784158\n",
      "Data columns (total 9 columns):\n",
      " #   Column                   Non-Null Count   Dtype \n",
      "---  ------                   --------------   ----- \n",
      " 0   Snapshot Year            784159 non-null  int64 \n",
      " 1   Latest Admission Type    784159 non-null  object\n",
      " 2   County of Indictment     784159 non-null  object\n",
      " 3   Gender                   784159 non-null  object\n",
      " 4   Most Serious Crime       784159 non-null  object\n",
      " 5   Current Age              784159 non-null  int64 \n",
      " 6   Housing Facility         784159 non-null  object\n",
      " 7   Facility Security Level  784159 non-null  object\n",
      " 8   Race/Ethnicity           784159 non-null  object\n",
      "dtypes: int64(2), object(7)\n",
      "memory usage: 53.8+ MB\n"
     ]
    }
   ],
   "source": [
    "df.info()"
   ]
  },
  {
   "cell_type": "code",
   "execution_count": 16,
   "metadata": {},
   "outputs": [
    {
     "name": "stdout",
     "output_type": "stream",
     "text": [
      "['ALBANY' 'MONROE' 'ALLEGANY' 'BROOME' 'CATTARAUGUS' 'CAYUGA' 'BRONX'\n",
      " 'CHAUTAUQUA' 'CHEMUNG' 'CHENANGO' 'CLINTON' 'COLUMBIA' 'CORTLAND'\n",
      " 'DELAWARE' 'DUTCHESS' 'ERIE' 'ESSEX' 'FRANKLIN' 'FULTON' 'GENESEE'\n",
      " 'GREENE' 'HAMILTON' 'HERKIMER' 'JEFFERSON' 'KINGS' 'LEWIS' 'LIVINGSTON'\n",
      " 'MADISON' 'MONTGOMERY' 'NASSAU' 'NEW YORK' 'NIAGARA' 'ONEIDA' 'ONONDAGA'\n",
      " 'ONTARIO' 'ORANGE' 'ORLEANS' 'OSWEGO' 'OTSEGO' 'PUTNAM' 'QUEENS'\n",
      " 'RENSSELAER' 'RICHMOND' 'ROCKLAND' 'ST LAWRENCE' 'SARATOGA' 'SCHENECTADY'\n",
      " 'SCHOHARIE' 'SCHUYLER' 'SENECA' 'STEUBEN' 'SUFFOLK' 'SULLIVAN' 'TIOGA'\n",
      " 'TOMPKINS' 'ULSTER' 'WARREN' 'WASHINGTON' 'WAYNE' 'WESTCHESTER' 'WYOMING'\n",
      " 'YATES' 'UNKNOWN']\n",
      "Number of unique counties: 63\n"
     ]
    }
   ],
   "source": [
    "# prints a series of unique county names in the dataframe\n",
    "unique_counties = df['County of Indictment'].unique()\n",
    "print(unique_counties)\n",
    "unique_county_count = len(unique_counties)\n",
    "# Print the number of unique counties\n",
    "print(\"Number of unique counties:\", unique_county_count)"
   ]
  },
  {
   "cell_type": "code",
   "execution_count": 15,
   "metadata": {},
   "outputs": [
    {
     "name": "stdout",
     "output_type": "stream",
     "text": [
      "Number of unique crimes: 537\n"
     ]
    }
   ],
   "source": [
    "# Print the number of unique crimes\n",
    "unique_crimes = df['Most Serious Crime'].unique()\n",
    "unique_crime_count = len(unique_crimes)\n",
    "print(\"Number of unique crimes:\", unique_crime_count)"
   ]
  },
  {
   "cell_type": "markdown",
   "metadata": {},
   "source": [
    "## Data munging\n",
    "Place your **data munging** code and documentation within this section.  \n",
    "- Keep each of your Code cells short and focused on a single task.  \n",
    "- Include a Markdown cell above each code cell that describes what task the code within the code cell is performing.\n",
    "- Make as many code cells as you need to complete the munging - a few have been created for you to start with.\n",
    "- Display 5 sample rows of the modified data after each transformation so a viewer can see how the data has changed.\n",
    "\n",
    "**Note**: If you believe that your data set does not require any munging, please explain in detail.  Create Markdown cells that explain your thinking and create Code cells that show any specific structures of the data you refer to in your explanation."
   ]
  },
  {
   "cell_type": "code",
   "execution_count": null,
   "metadata": {},
   "outputs": [],
   "source": []
  },
  {
   "cell_type": "code",
   "execution_count": null,
   "metadata": {},
   "outputs": [],
   "source": []
  },
  {
   "cell_type": "markdown",
   "metadata": {},
   "source": [
    "## Data analysis\n",
    "Place your **data analysis** code and documentation within this section.\n",
    "- Perform at least 5 different statistical or other analyses of different aspects of the data.\n",
    "    - Your analyses must be specific and relevant to your chosen data set and show interesting aspects of it.\n",
    "    - Include at least one analysis that includes grouping rows by a shared attribute and performing some kind of statistical analysis on each group.\n",
    "    - Sort the data in at least 1 of your analyses, but sort on its own does not constitute an analysis on its own.\n",
    "- Keep each of your Code cells short and focused on a single task.\n",
    "- Include a Markdown cell above each Code cell that describes what task the code within the Code cell is performing.\n",
    "- Make as many code cells as you need to complete the analysis - a few have been created for you to start with."
   ]
  },
  {
   "cell_type": "code",
   "execution_count": null,
   "metadata": {},
   "outputs": [],
   "source": []
  },
  {
   "cell_type": "code",
   "execution_count": null,
   "metadata": {},
   "outputs": [],
   "source": []
  },
  {
   "cell_type": "markdown",
   "metadata": {},
   "source": [
    "## Data visualization\n",
    "In this section, you will create a few **visualizations** that show some of the insights you have gathered from this data.\n",
    "- Create at least 5 different visualizations, where each visualization shows different insights into the data.\n",
    "- Use at least 3 different visualization types (e.g. bar charts, line charts, stacked area charts, pie charts, etc)\n",
    "- Create a Markdown cell and a Code cell for each, where you explain and show the visualizations, respectively.\n",
    "- Create as many additional cells as you need to prepare the data for the visualizations."
   ]
  },
  {
   "cell_type": "code",
   "execution_count": null,
   "metadata": {},
   "outputs": [],
   "source": []
  },
  {
   "cell_type": "code",
   "execution_count": null,
   "metadata": {},
   "outputs": [],
   "source": []
  }
 ],
 "metadata": {
  "kernelspec": {
   "display_name": "Python 3",
   "language": "python",
   "name": "python3"
  },
  "language_info": {
   "codemirror_mode": {
    "name": "ipython",
    "version": 3
   },
   "file_extension": ".py",
   "mimetype": "text/x-python",
   "name": "python",
   "nbconvert_exporter": "python",
   "pygments_lexer": "ipython3",
   "version": "3.11.5"
  }
 },
 "nbformat": 4,
 "nbformat_minor": 4
}
