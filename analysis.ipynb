{
 "cells": [
  {
   "cell_type": "markdown",
   "metadata": {},
   "source": [
    "# pandas exploration\n",
    "In this assignment you will select a data set and do some munging and analysis of it using `pandas`, Jupyter Notebooks, and associated Python-centric data science tools."
   ]
  },
  {
   "attachments": {},
   "cell_type": "markdown",
   "metadata": {},
   "source": [
    "## Set up environment"
   ]
  },
  {
   "attachments": {},
   "cell_type": "markdown",
   "metadata": {},
   "source": [
    "The following lines ensure that `numpy` and `pandas` are installed in the notebook environment.  Depending on your system, this may not be necessary and may be removed."
   ]
  },
  {
   "cell_type": "code",
   "execution_count": 5,
   "metadata": {},
   "outputs": [
    {
     "name": "stdout",
     "output_type": "stream",
     "text": [
      "Requirement already satisfied: numpy in /Library/Frameworks/Python.framework/Versions/3.11/lib/python3.11/site-packages (1.26.4)\n",
      "Requirement already satisfied: pandas in /Library/Frameworks/Python.framework/Versions/3.11/lib/python3.11/site-packages (2.2.2)\n",
      "Requirement already satisfied: numpy>=1.23.2 in /Library/Frameworks/Python.framework/Versions/3.11/lib/python3.11/site-packages (from pandas) (1.26.4)\n",
      "Requirement already satisfied: python-dateutil>=2.8.2 in /Users/carapeddle/Library/Python/3.11/lib/python/site-packages (from pandas) (2.9.0.post0)\n",
      "Requirement already satisfied: pytz>=2020.1 in /Library/Frameworks/Python.framework/Versions/3.11/lib/python3.11/site-packages (from pandas) (2024.1)\n",
      "Requirement already satisfied: tzdata>=2022.7 in /Library/Frameworks/Python.framework/Versions/3.11/lib/python3.11/site-packages (from pandas) (2024.1)\n",
      "Requirement already satisfied: six>=1.5 in /Users/carapeddle/Library/Python/3.11/lib/python/site-packages (from python-dateutil>=2.8.2->pandas) (1.16.0)\n"
     ]
    }
   ],
   "source": [
    "!pip3 install numpy\n",
    "!pip3 install pandas"
   ]
  },
  {
   "cell_type": "markdown",
   "metadata": {},
   "source": [
    "Import the core data science libraries:"
   ]
  },
  {
   "cell_type": "code",
   "execution_count": 6,
   "metadata": {},
   "outputs": [],
   "source": [
    "%matplotlib inline\n",
    "import matplotlib.pyplot as plt\n",
    "import numpy as np\n",
    "import pandas as pd"
   ]
  },
  {
   "cell_type": "markdown",
   "metadata": {},
   "source": [
    "## Import the raw data\n",
    "In this section, you will import the raw data into a `pandas` DataFrame."
   ]
  },
  {
   "cell_type": "code",
   "execution_count": 9,
   "metadata": {},
   "outputs": [
    {
     "name": "stdout",
     "output_type": "stream",
     "text": [
      "   Snapshot Year Latest Admission Type County of Indictment Gender  \\\n",
      "0           2023  NEW COURT COMMITMENT               ALBANY   MALE   \n",
      "1           2023  NEW COURT COMMITMENT               ALBANY   MALE   \n",
      "2           2023  NEW COURT COMMITMENT               ALBANY   MALE   \n",
      "3           2023  NEW COURT COMMITMENT               ALBANY   MALE   \n",
      "4           2023  NEW COURT COMMITMENT               ALBANY   MALE   \n",
      "\n",
      "   Most Serious Crime  Current Age Housing Facility Facility Security Level  \\\n",
      "0  ATT C POS WEAP 2ND           19   WOODBOURNE SNU         MEDIUM SECURITY   \n",
      "1    C POS WEAPON 2ND           19         FRANKLIN         MEDIUM SECURITY   \n",
      "2  ATT C POS WEAP 2ND           19       WASHINGTON         MEDIUM SECURITY   \n",
      "3  ATT C POS WEAP 2ND           19          WYOMING         MEDIUM SECURITY   \n",
      "4      YO ATT ROBBERY           19           GREENE         MEDIUM SECURITY   \n",
      "\n",
      "  Race/Ethnicity  \n",
      "0          BLACK  \n",
      "1          BLACK  \n",
      "2          BLACK  \n",
      "3          BLACK  \n",
      "4          BLACK  \n"
     ]
    }
   ],
   "source": [
    "# place your code into this Code cell\n",
    "df = pd.read_csv('data/nys_incarceration.csv')"
   ]
  },
  {
   "cell_type": "markdown",
   "metadata": {},
   "source": [
    "## Data inspection\n",
    "In this section, you will show enough of your data for a viewer to get a general sense of how the data is structured and any unique features of it.  Complete each of the indicated tasks in a Code cell, making sure to include a Markdown cell above each Code cell that explains what is being shown by the code.  \n",
    "- Show 5 rows, selected at random, from the data set.\n",
    "- Show each of the column names and their data types.\n",
    "- Show any unique features of your chosen data set.\n",
    "\n",
    "Feel free to add as many additional cells as you need to help explain the raw data."
   ]
  },
  {
   "cell_type": "markdown",
   "metadata": {},
   "source": [
    "#### 5 Random Rows from Data Set"
   ]
  },
  {
   "cell_type": "code",
   "execution_count": 10,
   "metadata": {},
   "outputs": [
    {
     "data": {
      "text/html": [
       "<div>\n",
       "<style scoped>\n",
       "    .dataframe tbody tr th:only-of-type {\n",
       "        vertical-align: middle;\n",
       "    }\n",
       "\n",
       "    .dataframe tbody tr th {\n",
       "        vertical-align: top;\n",
       "    }\n",
       "\n",
       "    .dataframe thead th {\n",
       "        text-align: right;\n",
       "    }\n",
       "</style>\n",
       "<table border=\"1\" class=\"dataframe\">\n",
       "  <thead>\n",
       "    <tr style=\"text-align: right;\">\n",
       "      <th></th>\n",
       "      <th>Snapshot Year</th>\n",
       "      <th>Latest Admission Type</th>\n",
       "      <th>County of Indictment</th>\n",
       "      <th>Gender</th>\n",
       "      <th>Most Serious Crime</th>\n",
       "      <th>Current Age</th>\n",
       "      <th>Housing Facility</th>\n",
       "      <th>Facility Security Level</th>\n",
       "      <th>Race/Ethnicity</th>\n",
       "    </tr>\n",
       "  </thead>\n",
       "  <tbody>\n",
       "    <tr>\n",
       "      <th>398476</th>\n",
       "      <td>2014</td>\n",
       "      <td>NEW COURT COMMITMENT</td>\n",
       "      <td>RICHMOND</td>\n",
       "      <td>MALE</td>\n",
       "      <td>MURDER 1ST</td>\n",
       "      <td>46</td>\n",
       "      <td>SHAWANGUNK</td>\n",
       "      <td>MAXIMUM SECURITY</td>\n",
       "      <td>WHITE</td>\n",
       "    </tr>\n",
       "    <tr>\n",
       "      <th>611053</th>\n",
       "      <td>2010</td>\n",
       "      <td>NEW COURT COMMITMENT</td>\n",
       "      <td>WESTCHESTER</td>\n",
       "      <td>MALE</td>\n",
       "      <td>MURDER 2ND</td>\n",
       "      <td>60</td>\n",
       "      <td>FIVE POINTS</td>\n",
       "      <td>MAXIMUM SECURITY</td>\n",
       "      <td>BLACK</td>\n",
       "    </tr>\n",
       "    <tr>\n",
       "      <th>573595</th>\n",
       "      <td>2011</td>\n",
       "      <td>NEW COURT COMMITMENT</td>\n",
       "      <td>NEW YORK</td>\n",
       "      <td>MALE</td>\n",
       "      <td>MANSLAUGHTER 1ST</td>\n",
       "      <td>51</td>\n",
       "      <td>FIVE POINTS</td>\n",
       "      <td>MAXIMUM SECURITY</td>\n",
       "      <td>BLACK</td>\n",
       "    </tr>\n",
       "    <tr>\n",
       "      <th>159871</th>\n",
       "      <td>2019</td>\n",
       "      <td>NEW COURT COMMITMENT</td>\n",
       "      <td>NEW YORK</td>\n",
       "      <td>MALE</td>\n",
       "      <td>ROBBERY 1ST</td>\n",
       "      <td>37</td>\n",
       "      <td>GREEN HAVEN ICP</td>\n",
       "      <td>MAXIMUM SECURITY</td>\n",
       "      <td>BLACK</td>\n",
       "    </tr>\n",
       "    <tr>\n",
       "      <th>72763</th>\n",
       "      <td>2022</td>\n",
       "      <td>NEW COURT COMMITMENT</td>\n",
       "      <td>KINGS</td>\n",
       "      <td>MALE</td>\n",
       "      <td>RAPE 1ST</td>\n",
       "      <td>61</td>\n",
       "      <td>MARCY OSOTP</td>\n",
       "      <td>MEDIUM SECURITY</td>\n",
       "      <td>HISPANIC</td>\n",
       "    </tr>\n",
       "  </tbody>\n",
       "</table>\n",
       "</div>"
      ],
      "text/plain": [
       "        Snapshot Year Latest Admission Type County of Indictment Gender  \\\n",
       "398476           2014  NEW COURT COMMITMENT             RICHMOND   MALE   \n",
       "611053           2010  NEW COURT COMMITMENT          WESTCHESTER   MALE   \n",
       "573595           2011  NEW COURT COMMITMENT             NEW YORK   MALE   \n",
       "159871           2019  NEW COURT COMMITMENT             NEW YORK   MALE   \n",
       "72763            2022  NEW COURT COMMITMENT                KINGS   MALE   \n",
       "\n",
       "       Most Serious Crime  Current Age Housing Facility  \\\n",
       "398476         MURDER 1ST           46       SHAWANGUNK   \n",
       "611053         MURDER 2ND           60      FIVE POINTS   \n",
       "573595   MANSLAUGHTER 1ST           51      FIVE POINTS   \n",
       "159871        ROBBERY 1ST           37  GREEN HAVEN ICP   \n",
       "72763            RAPE 1ST           61      MARCY OSOTP   \n",
       "\n",
       "       Facility Security Level Race/Ethnicity  \n",
       "398476        MAXIMUM SECURITY          WHITE  \n",
       "611053        MAXIMUM SECURITY          BLACK  \n",
       "573595        MAXIMUM SECURITY          BLACK  \n",
       "159871        MAXIMUM SECURITY          BLACK  \n",
       "72763          MEDIUM SECURITY       HISPANIC  "
      ]
     },
     "execution_count": 10,
     "metadata": {},
     "output_type": "execute_result"
    }
   ],
   "source": [
    "df.sample(5)"
   ]
  },
  {
   "cell_type": "markdown",
   "metadata": {},
   "source": [
    "#### Column Names and Data Types"
   ]
  },
  {
   "cell_type": "code",
   "execution_count": 12,
   "metadata": {},
   "outputs": [
    {
     "name": "stdout",
     "output_type": "stream",
     "text": [
      "<class 'pandas.core.frame.DataFrame'>\n",
      "RangeIndex: 784159 entries, 0 to 784158\n",
      "Data columns (total 9 columns):\n",
      " #   Column                   Non-Null Count   Dtype \n",
      "---  ------                   --------------   ----- \n",
      " 0   Snapshot Year            784159 non-null  int64 \n",
      " 1   Latest Admission Type    784159 non-null  object\n",
      " 2   County of Indictment     784159 non-null  object\n",
      " 3   Gender                   784159 non-null  object\n",
      " 4   Most Serious Crime       784159 non-null  object\n",
      " 5   Current Age              784159 non-null  int64 \n",
      " 6   Housing Facility         784159 non-null  object\n",
      " 7   Facility Security Level  784159 non-null  object\n",
      " 8   Race/Ethnicity           784159 non-null  object\n",
      "dtypes: int64(2), object(7)\n",
      "memory usage: 53.8+ MB\n"
     ]
    }
   ],
   "source": [
    "df.info()"
   ]
  },
  {
   "cell_type": "markdown",
   "metadata": {},
   "source": [
    "#### Other Features of Data Set"
   ]
  },
  {
   "cell_type": "markdown",
   "metadata": {},
   "source": [
    "The following code prints the unique county names in the dataframe and the number of unique counties:"
   ]
  },
  {
   "cell_type": "code",
   "execution_count": 16,
   "metadata": {},
   "outputs": [
    {
     "name": "stdout",
     "output_type": "stream",
     "text": [
      "['ALBANY' 'MONROE' 'ALLEGANY' 'BROOME' 'CATTARAUGUS' 'CAYUGA' 'BRONX'\n",
      " 'CHAUTAUQUA' 'CHEMUNG' 'CHENANGO' 'CLINTON' 'COLUMBIA' 'CORTLAND'\n",
      " 'DELAWARE' 'DUTCHESS' 'ERIE' 'ESSEX' 'FRANKLIN' 'FULTON' 'GENESEE'\n",
      " 'GREENE' 'HAMILTON' 'HERKIMER' 'JEFFERSON' 'KINGS' 'LEWIS' 'LIVINGSTON'\n",
      " 'MADISON' 'MONTGOMERY' 'NASSAU' 'NEW YORK' 'NIAGARA' 'ONEIDA' 'ONONDAGA'\n",
      " 'ONTARIO' 'ORANGE' 'ORLEANS' 'OSWEGO' 'OTSEGO' 'PUTNAM' 'QUEENS'\n",
      " 'RENSSELAER' 'RICHMOND' 'ROCKLAND' 'ST LAWRENCE' 'SARATOGA' 'SCHENECTADY'\n",
      " 'SCHOHARIE' 'SCHUYLER' 'SENECA' 'STEUBEN' 'SUFFOLK' 'SULLIVAN' 'TIOGA'\n",
      " 'TOMPKINS' 'ULSTER' 'WARREN' 'WASHINGTON' 'WAYNE' 'WESTCHESTER' 'WYOMING'\n",
      " 'YATES' 'UNKNOWN']\n",
      "Number of unique counties: 63\n"
     ]
    }
   ],
   "source": [
    "# prints a series of unique county names in the dataframe\n",
    "unique_counties = df['County of Indictment'].unique()\n",
    "print(unique_counties)\n",
    "unique_county_count = len(unique_counties)\n",
    "# Print the number of unique counties\n",
    "print(\"Number of unique counties:\", unique_county_count)"
   ]
  },
  {
   "cell_type": "markdown",
   "metadata": {},
   "source": [
    "The following code prints the number of unique crimes:"
   ]
  },
  {
   "cell_type": "code",
   "execution_count": 22,
   "metadata": {},
   "outputs": [
    {
     "name": "stdout",
     "output_type": "stream",
     "text": [
      "Number of unique crimes: 537\n"
     ]
    }
   ],
   "source": [
    "# Print the number of unique crimes\n",
    "unique_crimes = df['Most Serious Crime'].unique()\n",
    "unique_crime_count = len(unique_crimes)\n",
    "print(\"Number of unique crimes:\", unique_crime_count)"
   ]
  },
  {
   "cell_type": "markdown",
   "metadata": {},
   "source": [
    "The following code prints the unique facility security levels in the dataframe and the number of security levels:"
   ]
  },
  {
   "cell_type": "code",
   "execution_count": 17,
   "metadata": {},
   "outputs": [
    {
     "name": "stdout",
     "output_type": "stream",
     "text": [
      "['MEDIUM SECURITY' 'MAXIMUM SECURITY' 'MINIMUM SECURITY'\n",
      " 'SHOCK INCARCERATION' 'MEDIUM  SECURITY' 'MINIMUM CAMPS']\n",
      "Number of security levels: 6\n"
     ]
    }
   ],
   "source": [
    "# prints a series of unique facility security levels in the dataframe\n",
    "security_levels = df['Facility Security Level'].unique()\n",
    "print(security_levels)\n",
    "security_levels_count = len(security_levels)\n",
    "# Print the number of security levels\n",
    "print(\"Number of security levels:\", security_levels_count)"
   ]
  },
  {
   "cell_type": "markdown",
   "metadata": {},
   "source": [
    "The following code prints the unique races/ethnicities in the dataframe and the number of unique races/ethnicities:"
   ]
  },
  {
   "cell_type": "code",
   "execution_count": 18,
   "metadata": {},
   "outputs": [
    {
     "name": "stdout",
     "output_type": "stream",
     "text": [
      "['BLACK' 'HISPANIC' 'OTHER' 'WHITE' 'ASIAN' 'NATIVE AMERICAN' 'UNKNOWN']\n",
      "Number of unique races: 7\n"
     ]
    }
   ],
   "source": [
    "# prints a series of races in the dataframe\n",
    "unique_races = df['Race/Ethnicity'].unique()\n",
    "print(unique_races)\n",
    "unique_races_count = len(unique_races)\n",
    "# Print the number of unique counties\n",
    "print(\"Number of unique races:\", unique_races_count)"
   ]
  },
  {
   "cell_type": "markdown",
   "metadata": {},
   "source": [
    "The following code prints the number of unique housing facilities:"
   ]
  },
  {
   "cell_type": "code",
   "execution_count": 24,
   "metadata": {},
   "outputs": [
    {
     "name": "stdout",
     "output_type": "stream",
     "text": [
      "Number of unique housing facilities: 252\n"
     ]
    }
   ],
   "source": [
    "# Print the number of unique housing facilities\n",
    "unique_housing = df['Housing Facility'].unique()\n",
    "unique_housing_count = len(unique_housing)\n",
    "print(\"Number of unique housing facilities:\", unique_housing_count)"
   ]
  },
  {
   "cell_type": "markdown",
   "metadata": {},
   "source": [
    "## Data munging\n",
    "Place your **data munging** code and documentation within this section.  \n",
    "- Keep each of your Code cells short and focused on a single task.  \n",
    "- Include a Markdown cell above each code cell that describes what task the code within the code cell is performing.\n",
    "- Make as many code cells as you need to complete the munging - a few have been created for you to start with.\n",
    "- Display 5 sample rows of the modified data after each transformation so a viewer can see how the data has changed.\n",
    "\n",
    "**Note**: If you believe that your data set does not require any munging, please explain in detail.  Create Markdown cells that explain your thinking and create Code cells that show any specific structures of the data you refer to in your explanation."
   ]
  },
  {
   "cell_type": "markdown",
   "metadata": {},
   "source": [
    "The column **Facility Security Level** in the original data includes 6 unique values. However, the values **MEDIUM** *(space* *space)* **SECURITY** and **MEDIUM** *(space)* **SECURITY** represent the same information, but are formatted differently. **MEDIUM** *(space* *space)* **SECURITY** includes two spaces between each word while **MEDIUM** *(space)* **SECURITY** includes only one. The below code formats these values so that they all have only one space between each word."
   ]
  },
  {
   "cell_type": "code",
   "execution_count": 31,
   "metadata": {},
   "outputs": [],
   "source": [
    "# make copy of df to new var\n",
    "df_clean = df.copy()\n",
    "# replace two spaces with one\n",
    "df_clean['Facility Security Level'] = df_clean['Facility Security Level'].str.replace('  ', ' ')\n",
    "# save to new file \n",
    "df_clean.to_csv('data/nys_incarceration_clean.csv', index=False)"
   ]
  },
  {
   "cell_type": "markdown",
   "metadata": {},
   "source": [
    "Check that column **Facility Security Level** in the clean data includes 5 unique values."
   ]
  },
  {
   "cell_type": "code",
   "execution_count": 30,
   "metadata": {},
   "outputs": [
    {
     "name": "stdout",
     "output_type": "stream",
     "text": [
      "['MEDIUM SECURITY' 'MAXIMUM SECURITY' 'MINIMUM SECURITY'\n",
      " 'SHOCK INCARCERATION' 'MINIMUM CAMPS']\n",
      "Number of security levels: 5\n"
     ]
    }
   ],
   "source": [
    "security_levels = df_clean['Facility Security Level'].unique()\n",
    "print(security_levels)\n",
    "security_levels_count = len(security_levels)\n",
    "# Print the number of security levels\n",
    "print(\"Number of security levels:\", security_levels_count)"
   ]
  },
  {
   "cell_type": "markdown",
   "metadata": {},
   "source": [
    "The original data needed little munging due to its consistent structure and consistent values in the columns. While the **Most Serious Crime** column includes values with commas, such values are adequately surrounded by quotation marks, so importing the data into a spreadsheet or evaluating the data is not a problem."
   ]
  },
  {
   "cell_type": "code",
   "execution_count": 34,
   "metadata": {},
   "outputs": [
    {
     "name": "stdout",
     "output_type": "stream",
     "text": [
      "ATT BURGLARY 2ND, SUB 2\n",
      "ATT ROBBERY 2ND, SUB 1\n",
      "ROBBERY 2ND, SUB 1\n",
      "BURGLARY 2ND, SUB 2\n",
      "BURGLARY 2ND, SUB 1\n",
      "CR POS WEAP 3 SUB1,2,3\n",
      "ROBBERY 2ND, SUB 2,3\n",
      "ATT ROBBERY 2ND, SUB 2,3\n",
      "ATT BURGLARY 2ND, SUB 1\n",
      "UNLAWFUL SURV 2ND (2,3,4)\n",
      "ATT CR POS WEAP 3 SUB9,10\n",
      "SEX TRAFFIC CHILD,SUB A\n",
      "SEX TRAFFICKING SUB5A,B\n",
      "ATT SEX TRAFFIC CHILD,SUB A\n",
      "ATT SEX TRAFFICKING SUB5A,B\n",
      "POS EXPLOSIVE,NO LIC\n",
      "CR POS WEAP 3 SUB9,10\n",
      "ATT LABOR TRAFFIC SUB3A,B\n"
     ]
    }
   ],
   "source": [
    "# Print unique crimes with commas in value\n",
    "unique_crimes = df['Most Serious Crime'].unique()\n",
    "for value in unique_crimes:\n",
    "    if ',' in value:\n",
    "        print(value)"
   ]
  },
  {
   "cell_type": "markdown",
   "metadata": {},
   "source": [
    "As in the other columns analyzed in the *Data inspection* section, **Current Age**, **Snapshot Year**, and **Gender** are formatted properly so no values are formatted differently that mean the same thing. "
   ]
  },
  {
   "cell_type": "code",
   "execution_count": 35,
   "metadata": {},
   "outputs": [
    {
     "name": "stdout",
     "output_type": "stream",
     "text": [
      "[19 20 21 22 23 24 25 26 27 28 62 29 30 31 32 33 34 35 36 37 38 39 40 41\n",
      " 42 43 44 45 46 47 48 49 50 51 52 53 54 55 56 57 58 59 60 61 63 64 65 66\n",
      " 68 69 70 72 73 74 75 67 18 93 71 77 76 79 82 78 84 86 89 80 85 83 91 87\n",
      " 81 88 92 90 17 16 95 94 99]\n",
      "Number of ages: 81\n"
     ]
    }
   ],
   "source": [
    "# prints a series of unique ages in the dataframe\n",
    "ages = df['Current Age'].unique()\n",
    "print(ages)\n",
    "ages_count = len(ages)\n",
    "# Print the number of ages\n",
    "print(\"Number of ages:\", ages_count)"
   ]
  },
  {
   "cell_type": "code",
   "execution_count": 36,
   "metadata": {},
   "outputs": [
    {
     "name": "stdout",
     "output_type": "stream",
     "text": [
      "[2023 2021 2022 2020 2019 2018 2017 2016 2015 2014 2013 2012 2011 2010\n",
      " 2009 2008]\n",
      "Number of years: 16\n"
     ]
    }
   ],
   "source": [
    "# prints a series of unique years in the dataframe\n",
    "years = df['Snapshot Year'].unique()\n",
    "print(years)\n",
    "years_count = len(years)\n",
    "# Print the number of years\n",
    "print(\"Number of years:\", years_count)"
   ]
  },
  {
   "cell_type": "code",
   "execution_count": 37,
   "metadata": {},
   "outputs": [
    {
     "name": "stdout",
     "output_type": "stream",
     "text": [
      "['MALE' 'FEMALE']\n",
      "Number of genders: 2\n"
     ]
    }
   ],
   "source": [
    "# prints a series of unique genders in the dataframe\n",
    "genders = df['Gender'].unique()\n",
    "print(genders)\n",
    "genders_count = len(genders)\n",
    "# Print the number of genders\n",
    "print(\"Number of genders:\", genders_count)"
   ]
  },
  {
   "cell_type": "markdown",
   "metadata": {},
   "source": [
    "## Data analysis\n",
    "Place your **data analysis** code and documentation within this section.\n",
    "- Perform at least 5 different statistical or other analyses of different aspects of the data.\n",
    "    - Your analyses must be specific and relevant to your chosen data set and show interesting aspects of it.\n",
    "    - Include at least one analysis that includes grouping rows by a shared attribute and performing some kind of statistical analysis on each group.\n",
    "    - Sort the data in at least 1 of your analyses, but sort on its own does not constitute an analysis on its own.\n",
    "- Keep each of your Code cells short and focused on a single task.\n",
    "- Include a Markdown cell above each Code cell that describes what task the code within the Code cell is performing.\n",
    "- Make as many code cells as you need to complete the analysis - a few have been created for you to start with."
   ]
  },
  {
   "cell_type": "markdown",
   "metadata": {},
   "source": [
    "#### Overview of data:"
   ]
  },
  {
   "cell_type": "code",
   "execution_count": 75,
   "metadata": {},
   "outputs": [
    {
     "data": {
      "text/html": [
       "<div>\n",
       "<style scoped>\n",
       "    .dataframe tbody tr th:only-of-type {\n",
       "        vertical-align: middle;\n",
       "    }\n",
       "\n",
       "    .dataframe tbody tr th {\n",
       "        vertical-align: top;\n",
       "    }\n",
       "\n",
       "    .dataframe thead th {\n",
       "        text-align: right;\n",
       "    }\n",
       "</style>\n",
       "<table border=\"1\" class=\"dataframe\">\n",
       "  <thead>\n",
       "    <tr style=\"text-align: right;\">\n",
       "      <th></th>\n",
       "      <th>Snapshot Year</th>\n",
       "      <th>Current Age</th>\n",
       "    </tr>\n",
       "  </thead>\n",
       "  <tbody>\n",
       "    <tr>\n",
       "      <th>count</th>\n",
       "      <td>784159.000000</td>\n",
       "      <td>784159.000000</td>\n",
       "    </tr>\n",
       "    <tr>\n",
       "      <th>mean</th>\n",
       "      <td>2014.626911</td>\n",
       "      <td>37.774354</td>\n",
       "    </tr>\n",
       "    <tr>\n",
       "      <th>std</th>\n",
       "      <td>4.425491</td>\n",
       "      <td>11.953143</td>\n",
       "    </tr>\n",
       "    <tr>\n",
       "      <th>min</th>\n",
       "      <td>2008.000000</td>\n",
       "      <td>16.000000</td>\n",
       "    </tr>\n",
       "    <tr>\n",
       "      <th>25%</th>\n",
       "      <td>2011.000000</td>\n",
       "      <td>28.000000</td>\n",
       "    </tr>\n",
       "    <tr>\n",
       "      <th>50%</th>\n",
       "      <td>2014.000000</td>\n",
       "      <td>36.000000</td>\n",
       "    </tr>\n",
       "    <tr>\n",
       "      <th>75%</th>\n",
       "      <td>2018.000000</td>\n",
       "      <td>46.000000</td>\n",
       "    </tr>\n",
       "    <tr>\n",
       "      <th>max</th>\n",
       "      <td>2023.000000</td>\n",
       "      <td>99.000000</td>\n",
       "    </tr>\n",
       "  </tbody>\n",
       "</table>\n",
       "</div>"
      ],
      "text/plain": [
       "       Snapshot Year    Current Age\n",
       "count  784159.000000  784159.000000\n",
       "mean     2014.626911      37.774354\n",
       "std         4.425491      11.953143\n",
       "min      2008.000000      16.000000\n",
       "25%      2011.000000      28.000000\n",
       "50%      2014.000000      36.000000\n",
       "75%      2018.000000      46.000000\n",
       "max      2023.000000      99.000000"
      ]
     },
     "execution_count": 75,
     "metadata": {},
     "output_type": "execute_result"
    }
   ],
   "source": [
    "df_clean.describe()"
   ]
  },
  {
   "cell_type": "markdown",
   "metadata": {},
   "source": [
    "#### Analyses"
   ]
  },
  {
   "cell_type": "markdown",
   "metadata": {},
   "source": [
    "1. Top 15 counties with the most incarcerated individuals and the average, min, max, median age (group the counties together, sort by number of instances in that county, display the top 15, age)"
   ]
  },
  {
   "cell_type": "code",
   "execution_count": 88,
   "metadata": {},
   "outputs": [
    {
     "data": {
      "text/html": [
       "<div>\n",
       "<style scoped>\n",
       "    .dataframe tbody tr th:only-of-type {\n",
       "        vertical-align: middle;\n",
       "    }\n",
       "\n",
       "    .dataframe tbody tr th {\n",
       "        vertical-align: top;\n",
       "    }\n",
       "\n",
       "    .dataframe thead th {\n",
       "        text-align: right;\n",
       "    }\n",
       "</style>\n",
       "<table border=\"1\" class=\"dataframe\">\n",
       "  <thead>\n",
       "    <tr style=\"text-align: right;\">\n",
       "      <th></th>\n",
       "      <th>incarcerated_count</th>\n",
       "      <th>avg_age</th>\n",
       "      <th>min_age</th>\n",
       "      <th>max_age</th>\n",
       "      <th>median_age</th>\n",
       "    </tr>\n",
       "    <tr>\n",
       "      <th>County of Indictment</th>\n",
       "      <th></th>\n",
       "      <th></th>\n",
       "      <th></th>\n",
       "      <th></th>\n",
       "      <th></th>\n",
       "    </tr>\n",
       "  </thead>\n",
       "  <tbody>\n",
       "    <tr>\n",
       "      <th>NEW YORK</th>\n",
       "      <td>125874</td>\n",
       "      <td>40.238977</td>\n",
       "      <td>16</td>\n",
       "      <td>89</td>\n",
       "      <td>40.0</td>\n",
       "    </tr>\n",
       "    <tr>\n",
       "      <th>KINGS</th>\n",
       "      <td>94830</td>\n",
       "      <td>38.435147</td>\n",
       "      <td>16</td>\n",
       "      <td>90</td>\n",
       "      <td>37.0</td>\n",
       "    </tr>\n",
       "    <tr>\n",
       "      <th>QUEENS</th>\n",
       "      <td>63993</td>\n",
       "      <td>37.787774</td>\n",
       "      <td>16</td>\n",
       "      <td>88</td>\n",
       "      <td>36.0</td>\n",
       "    </tr>\n",
       "    <tr>\n",
       "      <th>BRONX</th>\n",
       "      <td>59791</td>\n",
       "      <td>38.159874</td>\n",
       "      <td>16</td>\n",
       "      <td>85</td>\n",
       "      <td>37.0</td>\n",
       "    </tr>\n",
       "    <tr>\n",
       "      <th>MONROE</th>\n",
       "      <td>45995</td>\n",
       "      <td>36.086705</td>\n",
       "      <td>16</td>\n",
       "      <td>89</td>\n",
       "      <td>34.0</td>\n",
       "    </tr>\n",
       "    <tr>\n",
       "      <th>ERIE</th>\n",
       "      <td>39216</td>\n",
       "      <td>36.788377</td>\n",
       "      <td>16</td>\n",
       "      <td>99</td>\n",
       "      <td>35.0</td>\n",
       "    </tr>\n",
       "    <tr>\n",
       "      <th>SUFFOLK</th>\n",
       "      <td>34614</td>\n",
       "      <td>37.779107</td>\n",
       "      <td>16</td>\n",
       "      <td>87</td>\n",
       "      <td>36.0</td>\n",
       "    </tr>\n",
       "    <tr>\n",
       "      <th>ONONDAGA</th>\n",
       "      <td>28786</td>\n",
       "      <td>35.834399</td>\n",
       "      <td>16</td>\n",
       "      <td>87</td>\n",
       "      <td>34.0</td>\n",
       "    </tr>\n",
       "    <tr>\n",
       "      <th>ALBANY</th>\n",
       "      <td>25889</td>\n",
       "      <td>36.772413</td>\n",
       "      <td>16</td>\n",
       "      <td>89</td>\n",
       "      <td>35.0</td>\n",
       "    </tr>\n",
       "    <tr>\n",
       "      <th>NASSAU</th>\n",
       "      <td>25523</td>\n",
       "      <td>38.026917</td>\n",
       "      <td>16</td>\n",
       "      <td>89</td>\n",
       "      <td>36.0</td>\n",
       "    </tr>\n",
       "    <tr>\n",
       "      <th>WESTCHESTER</th>\n",
       "      <td>20882</td>\n",
       "      <td>38.372426</td>\n",
       "      <td>17</td>\n",
       "      <td>84</td>\n",
       "      <td>37.0</td>\n",
       "    </tr>\n",
       "    <tr>\n",
       "      <th>ORANGE</th>\n",
       "      <td>16019</td>\n",
       "      <td>35.969286</td>\n",
       "      <td>16</td>\n",
       "      <td>81</td>\n",
       "      <td>34.0</td>\n",
       "    </tr>\n",
       "    <tr>\n",
       "      <th>ONEIDA</th>\n",
       "      <td>15677</td>\n",
       "      <td>36.177904</td>\n",
       "      <td>16</td>\n",
       "      <td>81</td>\n",
       "      <td>34.0</td>\n",
       "    </tr>\n",
       "    <tr>\n",
       "      <th>SCHENECTADY</th>\n",
       "      <td>12438</td>\n",
       "      <td>35.924666</td>\n",
       "      <td>16</td>\n",
       "      <td>87</td>\n",
       "      <td>34.0</td>\n",
       "    </tr>\n",
       "    <tr>\n",
       "      <th>BROOME</th>\n",
       "      <td>11268</td>\n",
       "      <td>36.809638</td>\n",
       "      <td>17</td>\n",
       "      <td>93</td>\n",
       "      <td>35.0</td>\n",
       "    </tr>\n",
       "  </tbody>\n",
       "</table>\n",
       "</div>"
      ],
      "text/plain": [
       "                      incarcerated_count    avg_age  min_age  max_age  \\\n",
       "County of Indictment                                                    \n",
       "NEW YORK                          125874  40.238977       16       89   \n",
       "KINGS                              94830  38.435147       16       90   \n",
       "QUEENS                             63993  37.787774       16       88   \n",
       "BRONX                              59791  38.159874       16       85   \n",
       "MONROE                             45995  36.086705       16       89   \n",
       "ERIE                               39216  36.788377       16       99   \n",
       "SUFFOLK                            34614  37.779107       16       87   \n",
       "ONONDAGA                           28786  35.834399       16       87   \n",
       "ALBANY                             25889  36.772413       16       89   \n",
       "NASSAU                             25523  38.026917       16       89   \n",
       "WESTCHESTER                        20882  38.372426       17       84   \n",
       "ORANGE                             16019  35.969286       16       81   \n",
       "ONEIDA                             15677  36.177904       16       81   \n",
       "SCHENECTADY                        12438  35.924666       16       87   \n",
       "BROOME                             11268  36.809638       17       93   \n",
       "\n",
       "                      median_age  \n",
       "County of Indictment              \n",
       "NEW YORK                    40.0  \n",
       "KINGS                       37.0  \n",
       "QUEENS                      36.0  \n",
       "BRONX                       37.0  \n",
       "MONROE                      34.0  \n",
       "ERIE                        35.0  \n",
       "SUFFOLK                     36.0  \n",
       "ONONDAGA                    34.0  \n",
       "ALBANY                      35.0  \n",
       "NASSAU                      36.0  \n",
       "WESTCHESTER                 37.0  \n",
       "ORANGE                      34.0  \n",
       "ONEIDA                      34.0  \n",
       "SCHENECTADY                 34.0  \n",
       "BROOME                      35.0  "
      ]
     },
     "execution_count": 88,
     "metadata": {},
     "output_type": "execute_result"
    }
   ],
   "source": [
    "age_county = df_clean.groupby('County of Indictment').agg(incarcerated_count=('Current Age', 'count'), avg_age=('Current Age', 'mean'), \n",
    "min_age=('Current Age', 'min'), max_age=('Current Age', 'max'), median_age=('Current Age', 'median')).sort_values(by='incarcerated_count', ascending=False).head(15)\n",
    "age_county"
   ]
  },
  {
   "cell_type": "markdown",
   "metadata": {},
   "source": [
    "2. Number of incarcerated individuals of identified races/ethnicities (group by race/ethnicity, count number of instances of each, display all)"
   ]
  },
  {
   "cell_type": "code",
   "execution_count": 89,
   "metadata": {},
   "outputs": [
    {
     "data": {
      "text/plain": [
       "Race/Ethnicity\n",
       "BLACK              388286\n",
       "HISPANIC           192272\n",
       "WHITE              181507\n",
       "OTHER               16551\n",
       "UNKNOWN              4023\n",
       "NATIVE AMERICAN       901\n",
       "ASIAN                 619\n",
       "Name: count, dtype: int64"
      ]
     },
     "execution_count": 89,
     "metadata": {},
     "output_type": "execute_result"
    }
   ],
   "source": [
    "race_incarcerated = df_clean['Race/Ethnicity'].value_counts()\n",
    "race_incarcerated"
   ]
  },
  {
   "cell_type": "markdown",
   "metadata": {},
   "source": [
    "3. Number of incarcerated individuals of each gender (group by gender, count number of instances of each, display all)"
   ]
  },
  {
   "cell_type": "code",
   "execution_count": 90,
   "metadata": {},
   "outputs": [
    {
     "data": {
      "text/plain": [
       "Gender\n",
       "MALE      750624\n",
       "FEMALE     33535\n",
       "Name: count, dtype: int64"
      ]
     },
     "execution_count": 90,
     "metadata": {},
     "output_type": "execute_result"
    }
   ],
   "source": [
    "gender_incarcerated = df_clean['Gender'].value_counts()\n",
    "gender_incarcerated"
   ]
  },
  {
   "cell_type": "markdown",
   "metadata": {},
   "source": [
    "4. Number of incarcerated individuals of each race/ethnicity, grouped by gender"
   ]
  },
  {
   "cell_type": "code",
   "execution_count": 91,
   "metadata": {},
   "outputs": [
    {
     "data": {
      "text/plain": [
       "Gender  Race/Ethnicity \n",
       "FEMALE  WHITE               13828\n",
       "        BLACK               13170\n",
       "        HISPANIC             5477\n",
       "        OTHER                 758\n",
       "        UNKNOWN               234\n",
       "        NATIVE AMERICAN        37\n",
       "        ASIAN                  31\n",
       "MALE    BLACK              375116\n",
       "        HISPANIC           186795\n",
       "        WHITE              167679\n",
       "        OTHER               15793\n",
       "        UNKNOWN              3789\n",
       "        NATIVE AMERICAN       864\n",
       "        ASIAN                 588\n",
       "Name: count, dtype: int64"
      ]
     },
     "execution_count": 91,
     "metadata": {},
     "output_type": "execute_result"
    }
   ],
   "source": [
    "gender_race = df_clean.groupby(\"Gender\")['Race/Ethnicity'].value_counts()\n",
    "gender_race"
   ]
  },
  {
   "cell_type": "markdown",
   "metadata": {},
   "source": [
    "5. Most common crimes by gender (group by gender, instances of each crime, display top 5)"
   ]
  },
  {
   "cell_type": "code",
   "execution_count": 92,
   "metadata": {},
   "outputs": [
    {
     "data": {
      "text/plain": [
       "Gender                  \n",
       "FEMALE  MURDER 2ND           2867\n",
       "        MANSLAUGHTER 1ST     2403\n",
       "        CSCS 3RD             1994\n",
       "        ASSAULT 2ND          1191\n",
       "        CPCS 3RD             1115\n",
       "MALE    MURDER 2ND          91841\n",
       "        ROBBERY 1ST         46643\n",
       "        MANSLAUGHTER 1ST    31528\n",
       "        C POS WEAPON 2ND    31442\n",
       "        CSCS 3RD            27496\n",
       "Name: Most Serious Crime, dtype: int64"
      ]
     },
     "execution_count": 92,
     "metadata": {},
     "output_type": "execute_result"
    }
   ],
   "source": [
    "crimesbygender = df_clean.groupby(\"Gender\")['Most Serious Crime'].apply(lambda column: column.value_counts().sort_values(ascending=False).head(5))\n",
    "crimesbygender"
   ]
  },
  {
   "cell_type": "markdown",
   "metadata": {},
   "source": [
    "6. Most common crimes by race/ethnicity (group by race/ethnicity, instances of each crime, display top 5)"
   ]
  },
  {
   "cell_type": "code",
   "execution_count": 93,
   "metadata": {},
   "outputs": [
    {
     "data": {
      "text/plain": [
       "Race/Ethnicity                       \n",
       "ASIAN            MURDER 2ND                103\n",
       "                 KIDNAPPING 1ST             59\n",
       "                 MANSLAUGHTER 1ST           42\n",
       "                 ASSAULT 1ST B FELONY       41\n",
       "                 RAPE 1ST                   39\n",
       "BLACK            MURDER 2ND              51231\n",
       "                 ROBBERY 1ST             30790\n",
       "                 C POS WEAPON 2ND        22795\n",
       "                 MANSLAUGHTER 1ST        17639\n",
       "                 CSCS 3RD                17041\n",
       "HISPANIC         MURDER 2ND              24441\n",
       "                 ROBBERY 1ST             11240\n",
       "                 MANSLAUGHTER 1ST        10836\n",
       "                 CSCS 3RD                 7779\n",
       "                 BURGLARY 2ND             6530\n",
       "NATIVE AMERICAN  MURDER 2ND                 75\n",
       "                 MANSLAUGHTER 1ST           52\n",
       "                 C POS WEAPON 2ND           51\n",
       "                 ASSAULT 2ND                45\n",
       "                 ATT C POS WEAP 2ND         38\n",
       "OTHER            MURDER 2ND               1822\n",
       "                 MANSLAUGHTER 1ST          772\n",
       "                 ROBBERY 1ST               648\n",
       "                 C POS WEAPON 2ND          629\n",
       "                 BURGLARY 2ND              588\n",
       "UNKNOWN          MISSING                   340\n",
       "                 MURDER 2ND                212\n",
       "                 CSCS 3RD                  205\n",
       "                 BURGLARY 3RD              184\n",
       "                 MANSLAUGHTER 1ST          157\n",
       "WHITE            MURDER 2ND              16824\n",
       "                 BURGLARY 3RD            10206\n",
       "                 BURGLARY 2ND             9578\n",
       "                 ATT BURGLARY 2ND         5499\n",
       "                 RAPE 1ST                 5114\n",
       "Name: Most Serious Crime, dtype: int64"
      ]
     },
     "execution_count": 93,
     "metadata": {},
     "output_type": "execute_result"
    }
   ],
   "source": [
    "crimesbyrace = df_clean.groupby(\"Race/Ethnicity\")['Most Serious Crime'].apply(lambda column: column.value_counts().sort_values(ascending=False).head(5))\n",
    "crimesbyrace"
   ]
  },
  {
   "cell_type": "markdown",
   "metadata": {},
   "source": [
    "7. Counties with most incarcerated individuals age 16-25, limited to top 15"
   ]
  },
  {
   "cell_type": "code",
   "execution_count": 94,
   "metadata": {},
   "outputs": [
    {
     "data": {
      "text/plain": [
       "County of Indictment\n",
       "NEW YORK       15389\n",
       "KINGS          14993\n",
       "QUEENS         11440\n",
       "MONROE          9572\n",
       "BRONX           9553\n",
       "ERIE            7553\n",
       "ONONDAGA        6105\n",
       "SUFFOLK         5227\n",
       "ALBANY          4741\n",
       "NASSAU          4066\n",
       "ORANGE          3227\n",
       "WESTCHESTER     3199\n",
       "ONEIDA          3049\n",
       "SCHENECTADY     2167\n",
       "RICHMOND        1849\n",
       "dtype: int64"
      ]
     },
     "execution_count": 94,
     "metadata": {},
     "output_type": "execute_result"
    }
   ],
   "source": [
    "youngbycounty = df_clean[(df_clean['Current Age'])<=25].groupby('County of Indictment').size().nlargest(15)\n",
    "youngbycounty"
   ]
  },
  {
   "cell_type": "markdown",
   "metadata": {},
   "source": [
    "## Data visualization\n",
    "In this section, you will create a few **visualizations** that show some of the insights you have gathered from this data.\n",
    "- Create at least 5 different visualizations, where each visualization shows different insights into the data.\n",
    "- Use at least 3 different visualization types (e.g. bar charts, line charts, stacked area charts, pie charts, etc)\n",
    "- Create a Markdown cell and a Code cell for each, where you explain and show the visualizations, respectively.\n",
    "- Create as many additional cells as you need to prepare the data for the visualizations."
   ]
  },
  {
   "cell_type": "markdown",
   "metadata": {},
   "source": [
    "1. This barplot models the number of incarcerated individuals from age 16 to 25 by county. The model demonstrates that New York County contains the greatest number of these individuals, followed by Kings, Queens, Monroe, and Bronx Counties for the top 5. The county in this model with the lowest number of incarcerated individuals from age 16 to 25 is Richmond County, which has the 15th greatest concentration of incarcerated individuals from age 16 to 25."
   ]
  },
  {
   "cell_type": "code",
   "execution_count": 97,
   "metadata": {},
   "outputs": [
    {
     "data": {
      "text/plain": [
       "<Axes: xlabel='County of Indictment', ylabel='Count Incarcerated Under 26'>"
      ]
     },
     "execution_count": 97,
     "metadata": {},
     "output_type": "execute_result"
    },
    {
     "data": {
      "image/png": "[encoded data removed]",
      "text/plain": [
       "<Figure size 640x480 with 1 Axes>"
      ]
     },
     "metadata": {},
     "output_type": "display_data"
    }
   ],
   "source": [
    "youngbycounty.plot.bar(ylabel='Count Incarcerated Under 26')"
   ]
  },
  {
   "cell_type": "markdown",
   "metadata": {},
   "source": [
    "2. This pie chart models the number of incarcerated individuals belonging to each **race/ethnicity** group. The chart indicates that the race/ethnicity group **Black** has the greatest quantity of incarcerated individuals, followed by the **Hispanic** group and the **White** group. **Other, Native American, Asian,** and **Unknown** follow."
   ]
  },
  {
   "cell_type": "code",
   "execution_count": 100,
   "metadata": {},
   "outputs": [
    {
     "data": {
      "text/plain": [
       "<Axes: ylabel='count'>"
      ]
     },
     "execution_count": 100,
     "metadata": {},
     "output_type": "execute_result"
    },
    {
     "data": {
      "image/png": "[encoded data removed]",
      "text/plain": [
       "<Figure size 640x480 with 1 Axes>"
      ]
     },
     "metadata": {},
     "output_type": "display_data"
    }
   ],
   "source": [
    "race_incarcerated.plot.pie(y='Races', legend=True)"
   ]
  },
  {
   "cell_type": "markdown",
   "metadata": {},
   "source": [
    "3. This horizontal bar chart models the number of individuals in each race/ethnicity group with a burglary crime as their most serious crime. The chart models all burglary crimes, not just when the **Most Serious Crime** column is equal to burglary. According to the chart, **Black** individuals make up the largest group incarcerated for buglary charges, with **White** individuals following close behind. There is a very low concentration of **Native American** and **Asian** individuals incarcerated with buglary charges as their most serious crime."
   ]
  },
  {
   "cell_type": "code",
   "execution_count": 124,
   "metadata": {},
   "outputs": [
    {
     "data": {
      "text/plain": [
       "<Axes: title={'center': 'Frequency of Burglary by Race/Ethnicity'}, xlabel='# Incarcerated Individuals', ylabel='Race/Ethnicity'>"
      ]
     },
     "execution_count": 124,
     "metadata": {},
     "output_type": "execute_result"
    },
    {
     "data": {
      "image/png": "[encoded data removed]",
      "text/plain": [
       "<Figure size 640x480 with 1 Axes>"
      ]
     },
     "metadata": {},
     "output_type": "display_data"
    }
   ],
   "source": [
    "# when burglary is in the name of the crime\n",
    "filtered_df = df_clean[df_clean['Most Serious Crime'].str.contains('BURGLARY', na=False)].copy()\n",
    "# everything  with 'BURGLARY' is single label\n",
    "filtered_df['Most Serious Crime'] = 'BURGLARY'\n",
    "burglarybyrace = filtered_df.groupby(['Race/Ethnicity', 'Most Serious Crime']).size().unstack(fill_value=0)\n",
    "# Visualize\n",
    "burglarybyrace.plot.barh(title = 'Frequency of Burglary by Race/Ethnicity', xlabel ='# Incarcerated Individuals', ylabel = 'Race/Ethnicity')"
   ]
  },
  {
   "cell_type": "markdown",
   "metadata": {},
   "source": [
    "4. This barplot models the number of incarcerated individuals sorted by **gender** and **race/ethnicity**. The chart demonstrates that the quantity of men incarcerated is much greater than the quantity of women incarcerated. The **White Female** group has a greater quantity of individuals incarcerated than the **Black Female** group, while the **White Male** group has a lower quantity of individuals incarcerated than the **Black Male** group. The **White Female** group has a greater quantity of individuals incarcerated than the **Hispanic Female** group, while the **White Male** group has a lower quantity of individuals incarcerated than the **Hispanic Male** group. The **White Male** group, **Black Male** group, and **Hispanic Male** group each have higher quantities of individuals incarcerated than all **Female** groups combined."
   ]
  },
  {
   "cell_type": "code",
   "execution_count": 116,
   "metadata": {},
   "outputs": [
    {
     "data": {
      "text/plain": [
       "<Axes: title={'center': '# Incarcerated by Gender & Race/Ethnicity'}, xlabel='Race/Ethnicity', ylabel='# Incarcerated'>"
      ]
     },
     "execution_count": 116,
     "metadata": {},
     "output_type": "execute_result"
    },
    {
     "data": {
      "image/png": "[encoded data removed]",
      "text/plain": [
       "<Figure size 640x480 with 1 Axes>"
      ]
     },
     "metadata": {},
     "output_type": "display_data"
    }
   ],
   "source": [
    "gender_race = df_clean.groupby([\"Race/Ethnicity\", \"Gender\"]).size().unstack()\n",
    "gender_race.plot.bar(stacked=True, title = '# Incarcerated by Gender & Race/Ethnicity', xlabel = 'Race/Ethnicity', ylabel = '# Incarcerated')"
   ]
  },
  {
   "cell_type": "markdown",
   "metadata": {},
   "source": [
    "5. This histogram demonstrates the age distribution of incarcerated individuals throughout the 15 counties with the most individuals incarcerated. The visual makes it clear that the majority of incarcerated individuals are around the age of 40."
   ]
  },
  {
   "cell_type": "code",
   "execution_count": 122,
   "metadata": {},
   "outputs": [
    {
     "data": {
      "text/plain": [
       "<Axes: title={'center': 'Age Distribution of Incarcerated Individuals in Top 15 Counties'}, xlabel='Age', ylabel='# Incarcerated Individuals'>"
      ]
     },
     "execution_count": 122,
     "metadata": {},
     "output_type": "execute_result"
    },
    {
     "data": {
      "image/png": "[encoded data removed]",
      "text/plain": [
       "<Figure size 640x480 with 1 Axes>"
      ]
     },
     "metadata": {},
     "output_type": "display_data"
    }
   ],
   "source": [
    "age_dist = df_clean[df_clean['County of Indictment'].isin(age_county.index)]['Current Age']\n",
    "age_dist.plot.hist(bins=20, edgecolor='black', title = 'Age Distribution of Incarcerated Individuals in Top 15 Counties', \n",
    "xlabel = 'Age', ylabel = '# Incarcerated Individuals')"
   ]
  },
  {
   "cell_type": "markdown",
   "metadata": {},
   "source": [
    "6. This pie chart demonstrates the relative quantities of men incarcerated and women incarcerated. The visual makes it clear that the male group contains much more incarcerated individuals than the female group."
   ]
  },
  {
   "cell_type": "code",
   "execution_count": 123,
   "metadata": {},
   "outputs": [
    {
     "data": {
      "text/plain": [
       "<Axes: ylabel='count'>"
      ]
     },
     "execution_count": 123,
     "metadata": {},
     "output_type": "execute_result"
    },
    {
     "data": {
      "image/png": "[encoded data removed]",
      "text/plain": [
       "<Figure size 640x480 with 1 Axes>"
      ]
     },
     "metadata": {},
     "output_type": "display_data"
    }
   ],
   "source": [
    "gender_incarcerated.plot.pie(y='Genders', legend=True)"
   ]
  }
 ],
 "metadata": {
  "kernelspec": {
   "display_name": "Python 3",
   "language": "python",
   "name": "python3"
  },
  "language_info": {
   "codemirror_mode": {
    "name": "ipython",
    "version": 3
   },
   "file_extension": ".py",
   "mimetype": "text/x-python",
   "name": "python",
   "nbconvert_exporter": "python",
   "pygments_lexer": "ipython3",
   "version": "3.11.5"
  }
 },
 "nbformat": 4,
 "nbformat_minor": 4
}
